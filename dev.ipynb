{
 "cells": [
  {
   "cell_type": "code",
   "execution_count": null,
   "id": "8b23fae1-ccaf-445e-8041-aa46efaf59f5",
   "metadata": {},
   "outputs": [],
   "source": [
    "import glob\n",
    "import os\n",
    "from typing import List\n",
    "\n",
    "import chromadb\n",
    "import langchain\n",
    "from langchain.callbacks import get_openai_callback\n",
    "from langchain.chains import RetrievalQA\n",
    "from langchain.chat_models import ChatOpenAI\n",
    "from langchain.document_loaders import TextLoader\n",
    "from langchain.embeddings import CacheBackedEmbeddings, OpenAIEmbeddings\n",
    "from langchain.llms import OpenAI\n",
    "from langchain.retrievers.merger_retriever import MergerRetriever\n",
    "from langchain.prompts import PromptTemplate, ChatPromptTemplate\n",
    "from langchain.prompts.chat import SystemMessagePromptTemplate, HumanMessagePromptTemplate\n",
    "from langchain.retrievers import BM25Retriever, EnsembleRetriever\n",
    "from langchain.storage import LocalFileStore, RedisStore\n",
    "from langchain.vectorstores import Chroma\n",
    "import redis\n",
    "import spacy"
   ]
  },
  {
   "cell_type": "code",
   "execution_count": null,
   "id": "01acd069-612d-497f-b148-75213068ff18",
   "metadata": {},
   "outputs": [],
   "source": [
    "REDIS_HOST = \"redis\"\n",
    "CHROMA_HOST = \"chroma\"\n",
    "CHROMA_PERSIST_DIRECTORY = \"/chroma\"\n",
    "\n",
    "EMBEDDING_MODEL = \"text-embedding-ada-002\"\n",
    "KNOWLEDGE_BASE_DIR = \"./knowledge_base\"\n",
    "\n",
    "RETRIEVER_COLLECTION_SETTINGS = {\n",
    "    \"info\": [{\"name\": \"bm25\", \"k\": 1}, {\"name\": \"semantic\", \"k\": 3}],\n",
    "    \"links\": [{\"name\": \"semantic\", \"k\": 1}]\n",
    "}"
   ]
  },
  {
   "cell_type": "code",
   "execution_count": null,
   "id": "736ed74f-6a9b-4d55-a9f7-c82a0e682dc8",
   "metadata": {},
   "outputs": [],
   "source": [
    "class CachedEmbeddings(CacheBackedEmbeddings):\n",
    "    def embed_query(self, text: str) -> List[float]:\n",
    "        return self.embed_documents([text])[0]\n",
    "\n",
    "\n",
    "chroma_client = chromadb.HttpClient(host=CHROMA_HOST, port=8000)\n",
    "chroma_client._settings.is_persistent = True\n",
    "chroma_client._settings.persist_directory=CHROMA_PERSIST_DIRECTORY\n",
    "\n",
    "redis_client = redis.Redis(host=REDIS_HOST, port=6379, db=0)\n",
    "redis_ada_emb_store = RedisStore(client=redis_client, namespace=EMBEDDING_MODEL)\n",
    "\n",
    "cached_embedder = CachedEmbeddings.from_bytes_store(OpenAIEmbeddings(model=EMBEDDING_MODEL), redis_ada_emb_store, namespace=EMBEDDING_MODEL)"
   ]
  },
  {
   "cell_type": "code",
   "execution_count": null,
   "id": "e7e0d628-0e7d-4f0f-9e93-b4bbbdb9267b",
   "metadata": {},
   "outputs": [],
   "source": [
    "def load_documents(dirpath):\n",
    "    documents = []\n",
    "    for filepath in glob.glob(os.path.join(dirpath, '*txt')):\n",
    "        documents.extend(TextLoader(filepath, encoding=\"utf-8\").load())\n",
    "    return documents\n",
    "\n",
    "def load_texts(dirpath):\n",
    "    documents = load_documents(dirpath)\n",
    "    return [doc.page_content for doc in documents]\n",
    "\n",
    "\n",
    "def create_knowledge_vectordb(dirpath, embedder):\n",
    "    collection_names = []\n",
    "    for folder in glob.glob(os.path.join(dirpath, \"*\")):\n",
    "        documents = load_documents(folder)\n",
    "        db = Chroma.from_documents(documents=documents, embedding=embedder, collection_name=os.path.basename(folder),\n",
    "                                   client=chroma_client, persist_directory=CHROMA_PERSIST_DIRECTORY)\n",
    "        collection_names.append(db._collection.name)\n",
    "    return collection_names\n",
    "\n",
    "\n",
    "# collection_names = create_knowledge_vectordb(KNOWLEDGE_BASE_DIR, cached_embedder)\n",
    "# print(collection_names)"
   ]
  },
  {
   "cell_type": "code",
   "execution_count": null,
   "id": "674ccd78-a53a-4a7a-b939-a6c5df52b3e0",
   "metadata": {},
   "outputs": [],
   "source": [
    "spacy_nlp = spacy.load(\"uk_core_news_sm\")\n",
    "\n",
    "retrievers = []\n",
    "for collection_name, collection_config in RETRIEVER_COLLECTION_SETTINGS.items():\n",
    "    collection_retrievers = []\n",
    "\n",
    "    for retriever_info in collection_config:\n",
    "        if retriever_info[\"name\"] == \"bm25\":\n",
    "            collection_texts = load_texts(os.path.join(KNOWLEDGE_BASE_DIR, collection_name))\n",
    "            bm25 = BM25Retriever.from_texts(collection_texts, preprocess_func=lambda x: [token.lemma_ for token in spacy_nlp(x)], **retriever_info)\n",
    "            collection_retrievers.append(bm25)\n",
    "        elif retriever_info[\"name\"] == \"semantic\":\n",
    "            collection_db = Chroma(embedding_function=cached_embedder, collection_name=collection_name,\n",
    "                                   client=chroma_client, persist_directory=CHROMA_PERSIST_DIRECTORY)\n",
    "            semantic_retriever = collection_db.as_retriever(search_type=\"similarity\", search_kwargs=retriever_info)\n",
    "            collection_retrievers.append(semantic_retriever)\n",
    "\n",
    "    if len(collection_retrievers) > 1:\n",
    "        retrievers.append(EnsembleRetriever(retrievers=collection_retrievers))\n",
    "    else:\n",
    "        retrievers.append(collection_retrievers[0])\n",
    "\n",
    "context_retriever = MergerRetriever(retrievers=retrievers) if len(retrievers) > 1 else retrievers[0]"
   ]
  },
  {
   "cell_type": "code",
   "execution_count": null,
   "id": "7a6e81b9-d114-4050-a8bd-162f6faaf253",
   "metadata": {},
   "outputs": [],
   "source": [
    "context_retriever.get_relevant_documents(\"Де найближче відділення?\")"
   ]
  },
  {
   "cell_type": "code",
   "execution_count": null,
   "id": "57eb8859-3625-4512-9f74-3914fd846483",
   "metadata": {},
   "outputs": [],
   "source": [
    "llm = ChatOpenAI(temperature=0, model=\"gpt-3.5-turbo\", verbose=True)\n",
    "\n",
    "rqa_prompt_template = ChatPromptTemplate.from_messages([\n",
    "    SystemMessagePromptTemplate.from_template(\n",
    "        template=(\"You are an AI assistant who answers customer questions about the services and processes \"\n",
    "                  \"of the postal company Nova Poshta. Use the following pieces of context to answer the question. \"\n",
    "                  \"Answer only in Ukrainian, regardless of the question language.\\n\\nCONTEXT:\\n{context}\\n\\n\"\n",
    "                  \"USER QUESTION: {question}\\n\\n\"\n",
    "                  \"If the question is not related to the context, tell to contact the support. If the answer is not \"\n",
    "                  \"contained in the context, tell to contact support. Don't make up the answer. If the question is not \"\n",
    "                  \"related to the postal services or it doesn't make sense, tell that you can't answer it.\\n\\n\"\n",
    "                  \"ANSWER IN UKRAINIAN:'\")\n",
    "    )]\n",
    ")\n",
    "\n",
    "rqa_chain = RetrievalQA.from_chain_type(llm=llm, chain_type=\"stuff\", retriever=context_retriever, return_source_documents=True,\n",
    "                                        chain_type_kwargs={\"prompt\": rqa_prompt_template})"
   ]
  },
  {
   "cell_type": "code",
   "execution_count": null,
   "id": "0a0bb847-7436-497b-b227-4457cb627f03",
   "metadata": {},
   "outputs": [],
   "source": [
    "# langchain.debug = True\n",
    "\n",
    "with get_openai_callback() as cb:\n",
    "    result = rqa_chain(\"Де найближче відділення?\")\n",
    "    print(cb)"
   ]
  },
  {
   "cell_type": "code",
   "execution_count": null,
   "id": "dd4e6b7e-162b-4970-99b6-36d5f2cb5bc8",
   "metadata": {},
   "outputs": [],
   "source": [
    "print(result['result'])"
   ]
  }
 ],
 "metadata": {
  "kernelspec": {
   "display_name": "Python 3 (ipykernel)",
   "language": "python",
   "name": "python3"
  },
  "language_info": {
   "codemirror_mode": {
    "name": "ipython",
    "version": 3
   },
   "file_extension": ".py",
   "mimetype": "text/x-python",
   "name": "python",
   "nbconvert_exporter": "python",
   "pygments_lexer": "ipython3",
   "version": "3.11.4"
  }
 },
 "nbformat": 4,
 "nbformat_minor": 5
}
